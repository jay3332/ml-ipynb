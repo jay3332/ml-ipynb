{
  "nbformat": 4,
  "nbformat_minor": 0,
  "metadata": {
    "colab": {
      "provenance": []
    },
    "kernelspec": {
      "name": "python3",
      "display_name": "Python 3"
    },
    "language_info": {
      "name": "python"
    }
  },
  "cells": [
    {
      "cell_type": "markdown",
      "source": [
        "# January 15: Linear Regression"
      ],
      "metadata": {
        "id": "h6XSfsw0JmZG"
      }
    },
    {
      "cell_type": "markdown",
      "source": [
        "**Constants:** Define our data set $[(x_1, y_1), (x_2, y_2), ..., (x_n, y_n)]$ and nudging factor $k$"
      ],
      "metadata": {
        "id": "iE2QAYjTFAwD"
      }
    },
    {
      "cell_type": "code",
      "execution_count": 76,
      "metadata": {
        "id": "IMitC6V1nKi4"
      },
      "outputs": [],
      "source": [
        "# List of all data points\n",
        "data = [(0, 1), (1, 3), (3, 4), (5, 6), (6, 5)]\n",
        "n = len(data)\n",
        "\n",
        "# The \"nudging\" factor, k\n",
        "k = 0.005"
      ]
    },
    {
      "cell_type": "markdown",
      "source": [
        "Calculate our heuristic values for $a$ and $b$: $a = m_\\text{sec}=\\frac{y_n - y_1}{x_n - x_1}, b = 0$"
      ],
      "metadata": {
        "id": "ZjddrEb5G6L6"
      }
    },
    {
      "cell_type": "code",
      "source": [
        "x_n, y_n = data[-1]\n",
        "x_1, y_1 = data[0]\n",
        "\n",
        "a = (y_n - y_1) / (x_n - x_1)\n",
        "b = 0\n",
        "\n",
        "# Let's also track the number of iterations so far:\n",
        "iterations = 0"
      ],
      "metadata": {
        "id": "Cqw7VHFIHMxU"
      },
      "execution_count": 77,
      "outputs": []
    },
    {
      "cell_type": "markdown",
      "source": [
        "Define the model $ŷ(x) = a + bx$"
      ],
      "metadata": {
        "id": "lWD65QRGGedR"
      }
    },
    {
      "cell_type": "code",
      "source": [
        "def y_hat(x: float) -> float:\n",
        "    return a + b * x"
      ],
      "metadata": {
        "id": "4P-ZKTxaGYvH"
      },
      "execution_count": 78,
      "outputs": []
    },
    {
      "cell_type": "markdown",
      "source": [
        "Define the function that calculates the mean-squared error, i.e. our loss function\n",
        "\n",
        "$\\text{MSE} = \\frac{1}{n} \\sum_{i=1}^n (ŷ(x_i) - y_i)^2$"
      ],
      "metadata": {
        "id": "V9ljGH43I2_s"
      }
    },
    {
      "cell_type": "code",
      "source": [
        "def loss() -> float:\n",
        "    return sum((y_hat(x) - y) ** 2 for x, y in data) / n"
      ],
      "metadata": {
        "id": "C7YmY5X_JCQy"
      },
      "execution_count": 79,
      "outputs": []
    },
    {
      "cell_type": "markdown",
      "source": [
        "Define functions that calculate:\n",
        "\n",
        "$\\Delta a = \\frac{\\partial}{\\partial a}\\text{MSE} = \\frac{2}{n} \\sum_{i=1}^{n} ( ŷ(x_i) - y_i )$ and\n",
        "\n",
        "$\\Delta b = \\frac{\\partial}{\\partial b}\\text{MSE} = \\frac{2}{n} \\sum_{i=1}^{n} x_i( ŷ(x_i) - y_i)$"
      ],
      "metadata": {
        "id": "Gn-g-Bg5E8e7"
      }
    },
    {
      "cell_type": "code",
      "source": [
        "def delta_a() -> float:\n",
        "    return 2 / n * sum(y_hat(x) - y for x, y in data)\n",
        "\n",
        "def delta_b() -> float:\n",
        "    return 2 / n * sum(x * (y_hat(x) - y) for x, y in data)"
      ],
      "metadata": {
        "id": "DrB6pYn6GKAX"
      },
      "execution_count": 80,
      "outputs": []
    },
    {
      "cell_type": "markdown",
      "source": [
        "Define a function that nudges $a$ and $b$ by $k\\Delta a$ and $k\\Delta b$. This is one \"iteration\"."
      ],
      "metadata": {
        "id": "zYzpLJrGGsXL"
      }
    },
    {
      "cell_type": "code",
      "source": [
        "def nudge():\n",
        "    global a, b, iterations\n",
        "\n",
        "    a -= k * delta_a()  # Note we are going in the opposite direction!\n",
        "    b -= k * delta_b()\n",
        "\n",
        "    iterations += 1  # Increment the number of iterations\n",
        "    print(f\"Iteration {iterations}: ŷ = {a:.3f} + {b:.3f}x\")  # Regression equation\n",
        "    print(f\"\\tLoss: {loss():.3f}\")  # Calculate the new loss\n",
        "    print()"
      ],
      "metadata": {
        "id": "oVqrg3mlH-HY"
      },
      "execution_count": 81,
      "outputs": []
    },
    {
      "cell_type": "markdown",
      "source": [
        "Call `nudge()` until the mean-squared error begins *converging*.\n",
        "\n",
        "Eventually, the mean-squared error may stop decreasing. This is a good stopping point for our regression."
      ],
      "metadata": {
        "id": "eLncrW0FLrii"
      }
    },
    {
      "cell_type": "code",
      "source": [
        "prev = loss()\n",
        "while loss() <= prev:  # Keep \"nudging\" as the loss is decreasing\n",
        "    prev = loss()\n",
        "    nudge()"
      ],
      "metadata": {
        "id": "tdiJYK5kPoAP"
      },
      "execution_count": null,
      "outputs": []
    },
    {
      "cell_type": "markdown",
      "source": [
        "We can combine this regression algorithm into one single function:"
      ],
      "metadata": {
        "id": "WgYPQWTKQLAa"
      }
    },
    {
      "cell_type": "code",
      "source": [
        "from typing import NamedTuple\n",
        "\n",
        "class Regression(NamedTuple):\n",
        "    a: float\n",
        "    b: float\n",
        "    loss: float\n",
        "    iterations: int\n",
        "\n",
        "    def __str__(self) -> str:\n",
        "        return f\"ŷ = {self.a:.4f} + {self.b:.4f}x\"\n",
        "\n",
        "def loss(data: list[tuple[float, float]], *, a: float, b: float) -> float:\n",
        "    \"\"\"Computes the mean-squared error of the data set with regression a + bx.\"\"\"\n",
        "    return sum((a + b * x - y) ** 2 for x, y in data) / len(data)\n",
        "\n",
        "def lin_reg(\n",
        "    data: list[tuple[float, float]],\n",
        "    *,\n",
        "    k: float = 0.005,\n",
        "    max_iterations: int = 10_000,\n",
        ") -> Regression:\n",
        "    \"\"\"Takes a set of data points and computes a linear regression model with nudging factor k.\"\"\"\n",
        "\n",
        "    n = len(data)\n",
        "    c = 2 / n  # Precompute 2 / n when calculating ∆a and ∆b\n",
        "\n",
        "    # Compute heuristics\n",
        "    x_n, y_n = data[-1]\n",
        "    x_1, y_1 = data[0]\n",
        "\n",
        "    a = (y_n - y_1) / (x_n - x_1)\n",
        "    b = 0\n",
        "\n",
        "    iterations = 0\n",
        "    prev_loss = float('inf')\n",
        "\n",
        "    while True:\n",
        "        delta_a = c * sum(a + b * x - y for x, y in data)\n",
        "        delta_b = c * sum(x * (a + b * x - y) for x, y in data)\n",
        "\n",
        "        new_a = a - k * delta_a\n",
        "        new_b = b - k * delta_b\n",
        "        iterations += 1\n",
        "\n",
        "        new_loss = loss(data, a=new_a, b=new_b)\n",
        "        if prev_loss <= new_loss:  # Are we converging?\n",
        "            # Since the previous regression had lower loss, return that one\n",
        "            return Regression(a, b, prev_loss, iterations - 1)\n",
        "\n",
        "        if iterations >= max_iterations:\n",
        "            return Regression(new_a, new_b, new_loss, iterations)\n",
        "\n",
        "        a = new_a\n",
        "        b = new_b\n",
        "        prev_loss = new_loss"
      ],
      "metadata": {
        "id": "5jfK6t3dQQIt"
      },
      "execution_count": 85,
      "outputs": []
    },
    {
      "cell_type": "code",
      "source": [
        "# Try the function\n",
        "data = [(0, 1), (1, 3), (3, 4), (5, 6), (6, 5)]\n",
        "reg = lin_reg(data, k=0.005)\n",
        "print(f'{reg} in {reg.iterations} iterations (Loss: {reg.loss:.4f})')"
      ],
      "metadata": {
        "colab": {
          "base_uri": "https://localhost:8080/"
        },
        "id": "QcZNRE71T4D8",
        "outputId": "18cf588b-c091-49cf-e466-cabea25cfbf2"
      },
      "execution_count": 87,
      "outputs": [
        {
          "output_type": "stream",
          "name": "stdout",
          "text": [
            "ŷ = 1.7231 + 0.6923x in 4169 iterations (Loss: 0.4677)\n"
          ]
        }
      ]
    }
  ]
}
